{
 "cells": [
  {
   "cell_type": "code",
   "id": "initial_id",
   "metadata": {
    "collapsed": true,
    "ExecuteTime": {
     "end_time": "2024-12-22T12:31:14.027764Z",
     "start_time": "2024-12-22T12:28:55.363033Z"
    }
   },
   "source": [
    "import optuna\n",
    "from sklearn.model_selection import train_test_split, cross_val_score\n",
    "from sklearn.metrics import confusion_matrix, accuracy_score, classification_report\n",
    "from sklearn.ensemble import RandomForestClassifier\n",
    "from matplotlib import pyplot as plt\n",
    "import seaborn as sns\n",
    "import pandas as pd\n",
    "import joblib  # Pour sauvegarder et recharger le modèle\n",
    "\n",
    "# Charger les données\n",
    "data = pd.read_csv(\"./datatest/DatasetmalwareExtrait.csv\")\n",
    "\n",
    "# Séparer les caractéristiques (X) et la cible (y)\n",
    "X = data.drop(columns=['legitimate'])\n",
    "y = data['legitimate']\n",
    "\n",
    "# Diviser les données en ensemble d'entraînement et de test\n",
    "X_train, X_test, y_train, y_test = train_test_split(\n",
    "    X, y, test_size=0.1, random_state=42, stratify=y\n",
    ")\n",
    "\n",
    "# Fonction d'optimisation Optuna\n",
    "def objective(trial):\n",
    "    # Définir les hyperparamètres à optimiser\n",
    "    n_estimators = trial.suggest_int('n_estimators', 50, 150)\n",
    "    criterion = trial.suggest_categorical('criterion', ['gini', 'entropy'])\n",
    "    max_depth = trial.suggest_int('max_depth', 5, 50, step=5)\n",
    "    min_samples_split = trial.suggest_int('min_samples_split', 2, 20)\n",
    "    min_samples_leaf = trial.suggest_int('min_samples_leaf', 1, 10)\n",
    "    max_features = trial.suggest_categorical('max_features', ['sqrt', 'log2'])\n",
    "\n",
    "    # Initialiser le modèle avec ces hyperparamètres\n",
    "    model = RandomForestClassifier(\n",
    "        n_estimators=n_estimators,\n",
    "        criterion=criterion,\n",
    "        max_depth=max_depth,\n",
    "        min_samples_split=min_samples_split,\n",
    "        min_samples_leaf=min_samples_leaf,\n",
    "        max_features=max_features,\n",
    "        random_state=42,\n",
    "        n_jobs=-1\n",
    "    )\n",
    "\n",
    "    # Utiliser la validation croisée pour évaluer le modèle\n",
    "    score = cross_val_score(model, X_train, y_train, cv=5, scoring='accuracy', n_jobs=-1)\n",
    "\n",
    "    # Retourner la moyenne des scores comme objectif\n",
    "    return score.mean()\n",
    "\n",
    "# Créer une étude Optuna\n",
    "study = optuna.create_study(direction='maximize')\n",
    "\n",
    "# Lancer l'optimisation\n",
    "study.optimize(objective, n_trials=30)\n",
    "\n",
    "# Afficher les meilleurs hyperparamètres\n",
    "print(\"Meilleurs hyperparamètres trouvés :\", study.best_params)\n",
    "\n",
    "# Créer un modèle avec les meilleurs hyperparamètres\n",
    "best_opt_params = study.best_params\n",
    "optimized_rf = RandomForestClassifier(**best_opt_params, random_state=42, n_jobs=-1)\n",
    "\n",
    "# Entraîner le modèle avec les données d'entraînement\n",
    "optimized_rf.fit(X_train, y_train)\n",
    "\n",
    "# Sauvegarder le modèle optimisé\n",
    "joblib.dump(optimized_rf, \"optimized_model.pkl\")\n",
    "print(\"Modèle optimisé sauvegardé sous 'optimized_model.pkl'.\")\n",
    "\n",
    "# Charger le modèle sauvegardé (validation)\n",
    "loaded_model = joblib.load(\"optimized_model.pkl\")\n",
    "print(\"Modèle chargé avec succès.\")\n",
    "# \n",
    "# # Faire des prédictions avec le modèle chargé\n",
    "# y_pred_rf = loaded_model.predict(X_test)\n",
    "# \n",
    "# # Évaluer le modèle\n",
    "# accuracy = accuracy_score(y_test, y_pred_rf)\n",
    "# print(f\"Précision sur l'ensemble de test : {accuracy:.2f}\")\n",
    "# \n",
    "# # Matrice de confusion\n",
    "# cm = confusion_matrix(y_test, y_pred_rf)\n",
    "# \n",
    "# # Visualiser la matrice de confusion\n",
    "# plt.figure(figsize=(8, 6))\n",
    "# sns.heatmap(\n",
    "#     cm, annot=True, fmt='d', cmap='PiYG',\n",
    "#     xticklabels=['Non-Malware', 'Malware'],\n",
    "#     yticklabels=['Non-Malware', 'Malware']\n",
    "# )\n",
    "# plt.xlabel('Prédictions')\n",
    "# plt.ylabel('Vérités')\n",
    "# plt.title('Matrice de Confusion - Random Forest')\n",
    "# plt.show()\n",
    "# \n",
    "# # Afficher le rapport de classification\n",
    "# print(\"\\nRapport de classification :\")\n",
    "# print(classification_report(y_test, y_pred_rf))\n"
   ],
   "outputs": [
    {
     "name": "stderr",
     "output_type": "stream",
     "text": [
      "[I 2024-12-22 12:28:55,499] A new study created in memory with name: no-name-99345548-83dc-4645-9961-2119acdc2ab2\n",
      "[I 2024-12-22 12:29:01,028] Trial 0 finished with value: 0.9755616559271683 and parameters: {'n_estimators': 93, 'criterion': 'gini', 'max_depth': 5, 'min_samples_split': 16, 'min_samples_leaf': 5, 'max_features': 'log2'}. Best is trial 0 with value: 0.9755616559271683.\n",
      "[I 2024-12-22 12:29:07,627] Trial 1 finished with value: 0.9878818751353459 and parameters: {'n_estimators': 102, 'criterion': 'gini', 'max_depth': 30, 'min_samples_split': 8, 'min_samples_leaf': 6, 'max_features': 'log2'}. Best is trial 1 with value: 0.9878818751353459.\n",
      "[I 2024-12-22 12:29:15,216] Trial 2 finished with value: 0.9896765540243374 and parameters: {'n_estimators': 135, 'criterion': 'gini', 'max_depth': 30, 'min_samples_split': 9, 'min_samples_leaf': 2, 'max_features': 'log2'}. Best is trial 2 with value: 0.9896765540243374.\n",
      "[I 2024-12-22 12:29:19,346] Trial 3 finished with value: 0.9868066860546335 and parameters: {'n_estimators': 64, 'criterion': 'gini', 'max_depth': 25, 'min_samples_split': 15, 'min_samples_leaf': 10, 'max_features': 'log2'}. Best is trial 2 with value: 0.9896765540243374.\n",
      "[I 2024-12-22 12:29:24,351] Trial 4 finished with value: 0.9853192019918344 and parameters: {'n_estimators': 135, 'criterion': 'entropy', 'max_depth': 10, 'min_samples_split': 13, 'min_samples_leaf': 9, 'max_features': 'log2'}. Best is trial 2 with value: 0.9896765540243374.\n",
      "[I 2024-12-22 12:29:28,483] Trial 5 finished with value: 0.9879707999534542 and parameters: {'n_estimators': 117, 'criterion': 'gini', 'max_depth': 35, 'min_samples_split': 19, 'min_samples_leaf': 4, 'max_features': 'sqrt'}. Best is trial 2 with value: 0.9896765540243374.\n",
      "[I 2024-12-22 12:29:33,705] Trial 6 finished with value: 0.9859335985064837 and parameters: {'n_estimators': 138, 'criterion': 'entropy', 'max_depth': 10, 'min_samples_split': 19, 'min_samples_leaf': 1, 'max_features': 'log2'}. Best is trial 2 with value: 0.9896765540243374.\n",
      "[I 2024-12-22 12:29:40,229] Trial 7 finished with value: 0.9893046820283141 and parameters: {'n_estimators': 142, 'criterion': 'gini', 'max_depth': 25, 'min_samples_split': 12, 'min_samples_leaf': 2, 'max_features': 'log2'}. Best is trial 2 with value: 0.9896765540243374.\n",
      "[I 2024-12-22 12:29:42,473] Trial 8 finished with value: 0.9728534763071984 and parameters: {'n_estimators': 96, 'criterion': 'entropy', 'max_depth': 5, 'min_samples_split': 11, 'min_samples_leaf': 10, 'max_features': 'sqrt'}. Best is trial 2 with value: 0.9896765540243374.\n",
      "[I 2024-12-22 12:29:48,696] Trial 9 finished with value: 0.9895391241064392 and parameters: {'n_estimators': 126, 'criterion': 'gini', 'max_depth': 25, 'min_samples_split': 17, 'min_samples_leaf': 1, 'max_features': 'log2'}. Best is trial 2 with value: 0.9896765540243374.\n",
      "[I 2024-12-22 12:29:54,399] Trial 10 finished with value: 0.9892642655777408 and parameters: {'n_estimators': 149, 'criterion': 'entropy', 'max_depth': 50, 'min_samples_split': 2, 'min_samples_leaf': 3, 'max_features': 'sqrt'}. Best is trial 2 with value: 0.9896765540243374.\n",
      "[I 2024-12-22 12:30:00,435] Trial 11 finished with value: 0.9904364628973861 and parameters: {'n_estimators': 119, 'criterion': 'gini', 'max_depth': 40, 'min_samples_split': 7, 'min_samples_leaf': 1, 'max_features': 'log2'}. Best is trial 11 with value: 0.9904364628973861.\n",
      "[I 2024-12-22 12:30:05,838] Trial 12 finished with value: 0.9875746783485064 and parameters: {'n_estimators': 112, 'criterion': 'gini', 'max_depth': 45, 'min_samples_split': 6, 'min_samples_leaf': 7, 'max_features': 'log2'}. Best is trial 11 with value: 0.9904364628973861.\n",
      "[I 2024-12-22 12:30:09,826] Trial 13 finished with value: 0.9892885171473121 and parameters: {'n_estimators': 78, 'criterion': 'gini', 'max_depth': 35, 'min_samples_split': 7, 'min_samples_leaf': 3, 'max_features': 'log2'}. Best is trial 11 with value: 0.9904364628973861.\n",
      "[I 2024-12-22 12:30:14,856] Trial 14 finished with value: 0.9910104354456484 and parameters: {'n_estimators': 122, 'criterion': 'gini', 'max_depth': 40, 'min_samples_split': 4, 'min_samples_leaf': 1, 'max_features': 'sqrt'}. Best is trial 14 with value: 0.9910104354456484.\n",
      "[I 2024-12-22 12:30:19,736] Trial 15 finished with value: 0.9911478673241936 and parameters: {'n_estimators': 117, 'criterion': 'gini', 'max_depth': 40, 'min_samples_split': 3, 'min_samples_leaf': 1, 'max_features': 'sqrt'}. Best is trial 15 with value: 0.9911478673241936.\n",
      "[I 2024-12-22 12:30:23,046] Trial 16 finished with value: 0.9885447777301085 and parameters: {'n_estimators': 84, 'criterion': 'gini', 'max_depth': 45, 'min_samples_split': 2, 'min_samples_leaf': 4, 'max_features': 'sqrt'}. Best is trial 15 with value: 0.9911478673241936.\n",
      "[I 2024-12-22 12:30:26,947] Trial 17 finished with value: 0.9868228525695081 and parameters: {'n_estimators': 105, 'criterion': 'gini', 'max_depth': 50, 'min_samples_split': 4, 'min_samples_leaf': 8, 'max_features': 'sqrt'}. Best is trial 15 with value: 0.9911478673241936.\n",
      "[I 2024-12-22 12:30:31,608] Trial 18 finished with value: 0.9891995923292038 and parameters: {'n_estimators': 124, 'criterion': 'entropy', 'max_depth': 40, 'min_samples_split': 4, 'min_samples_leaf': 3, 'max_features': 'sqrt'}. Best is trial 15 with value: 0.9911478673241936.\n",
      "[I 2024-12-22 12:30:34,138] Trial 19 finished with value: 0.9897412302138449 and parameters: {'n_estimators': 60, 'criterion': 'gini', 'max_depth': 20, 'min_samples_split': 5, 'min_samples_leaf': 2, 'max_features': 'sqrt'}. Best is trial 15 with value: 0.9911478673241936.\n",
      "[I 2024-12-22 12:30:37,452] Trial 20 finished with value: 0.9878899601900428 and parameters: {'n_estimators': 87, 'criterion': 'gini', 'max_depth': 40, 'min_samples_split': 10, 'min_samples_leaf': 5, 'max_features': 'sqrt'}. Best is trial 15 with value: 0.9911478673241936.\n",
      "[I 2024-12-22 12:30:42,073] Trial 21 finished with value: 0.9911155303731507 and parameters: {'n_estimators': 116, 'criterion': 'gini', 'max_depth': 40, 'min_samples_split': 3, 'min_samples_leaf': 1, 'max_features': 'sqrt'}. Best is trial 15 with value: 0.9911478673241936.\n",
      "[I 2024-12-22 12:30:46,221] Trial 22 finished with value: 0.9911478676509681 and parameters: {'n_estimators': 108, 'criterion': 'gini', 'max_depth': 35, 'min_samples_split': 3, 'min_samples_leaf': 1, 'max_features': 'sqrt'}. Best is trial 22 with value: 0.9911478676509681.\n",
      "[I 2024-12-22 12:30:50,321] Trial 23 finished with value: 0.9901050129071027 and parameters: {'n_estimators': 111, 'criterion': 'gini', 'max_depth': 35, 'min_samples_split': 2, 'min_samples_leaf': 2, 'max_features': 'sqrt'}. Best is trial 22 with value: 0.9911478676509681.\n",
      "[I 2024-12-22 12:30:54,634] Trial 24 finished with value: 0.9911478669974191 and parameters: {'n_estimators': 108, 'criterion': 'gini', 'max_depth': 45, 'min_samples_split': 3, 'min_samples_leaf': 1, 'max_features': 'sqrt'}. Best is trial 22 with value: 0.9911478676509681.\n",
      "[I 2024-12-22 12:30:58,412] Trial 25 finished with value: 0.9885851994090741 and parameters: {'n_estimators': 106, 'criterion': 'gini', 'max_depth': 45, 'min_samples_split': 6, 'min_samples_leaf': 4, 'max_features': 'sqrt'}. Best is trial 22 with value: 0.9911478676509681.\n",
      "[I 2024-12-22 12:31:00,274] Trial 26 finished with value: 0.9891995910221059 and parameters: {'n_estimators': 50, 'criterion': 'entropy', 'max_depth': 50, 'min_samples_split': 5, 'min_samples_leaf': 3, 'max_features': 'sqrt'}. Best is trial 22 with value: 0.9911478676509681.\n",
      "[I 2024-12-22 12:31:05,284] Trial 27 finished with value: 0.9901130976350252 and parameters: {'n_estimators': 130, 'criterion': 'gini', 'max_depth': 35, 'min_samples_split': 3, 'min_samples_leaf': 2, 'max_features': 'sqrt'}. Best is trial 22 with value: 0.9911478676509681.\n",
      "[I 2024-12-22 12:31:08,979] Trial 28 finished with value: 0.9905738911814117 and parameters: {'n_estimators': 92, 'criterion': 'gini', 'max_depth': 45, 'min_samples_split': 8, 'min_samples_leaf': 1, 'max_features': 'sqrt'}. Best is trial 22 with value: 0.9911478676509681.\n",
      "[I 2024-12-22 12:31:12,627] Trial 29 finished with value: 0.9878657079669224 and parameters: {'n_estimators': 94, 'criterion': 'gini', 'max_depth': 30, 'min_samples_split': 5, 'min_samples_leaf': 5, 'max_features': 'sqrt'}. Best is trial 22 with value: 0.9911478676509681.\n"
     ]
    },
    {
     "name": "stdout",
     "output_type": "stream",
     "text": [
      "Meilleurs hyperparamètres trouvés : {'n_estimators': 108, 'criterion': 'gini', 'max_depth': 35, 'min_samples_split': 3, 'min_samples_leaf': 1, 'max_features': 'sqrt'}\n",
      "Modèle optimisé sauvegardé sous 'optimized_model.pkl'.\n",
      "Modèle chargé avec succès.\n"
     ]
    }
   ],
   "execution_count": 2
  },
  {
   "metadata": {
    "ExecuteTime": {
     "end_time": "2024-12-22T12:31:14.047119Z",
     "start_time": "2024-12-22T12:31:14.029774Z"
    }
   },
   "cell_type": "code",
   "source": [
    "import pefile\n",
    "\n",
    "def extract_features(executable_path):\n",
    "    try:\n",
    "        # Charger le fichier PE\n",
    "        pe = pefile.PE(executable_path)\n",
    "\n",
    "        # Extraire les caractéristiques\n",
    "        features = {\n",
    "            'AddressOfEntryPoint': pe.OPTIONAL_HEADER.AddressOfEntryPoint,\n",
    "            'MajorLinkerVersion': pe.OPTIONAL_HEADER.MajorLinkerVersion,\n",
    "            'MajorImageVersion': pe.OPTIONAL_HEADER.MajorImageVersion,\n",
    "            'MajorOperatingSystemVersion': pe.OPTIONAL_HEADER.MajorOperatingSystemVersion,\n",
    "            'DllCharacteristics': pe.OPTIONAL_HEADER.DllCharacteristics,\n",
    "            'SizeOfStackReserve': pe.OPTIONAL_HEADER.SizeOfStackReserve,\n",
    "            'NumberOfSections': len(pe.sections),  \n",
    "            'ResourceSize': get_resource_size(pe)\n",
    "        }\n",
    "        \n",
    "        return features\n",
    "    except Exception as e:\n",
    "        print(f\"Erreur lors de l'extraction des caractéristiques : {e}\")\n",
    "        return None\n",
    "\n",
    "def get_resource_size(pe):\n",
    "    try:\n",
    "        # Vérifie si le fichier PE a une entrée de ressources\n",
    "        if hasattr(pe, 'DIRECTORY_ENTRY_RESOURCE') and pe.DIRECTORY_ENTRY_RESOURCE.entries:\n",
    "            total_size = 0\n",
    "\n",
    "            # Parcourt les entrées de ressources\n",
    "            for entry in pe.DIRECTORY_ENTRY_RESOURCE.entries:\n",
    "                if hasattr(entry, 'directory') and entry.directory.entries:\n",
    "                    for sub_entry in entry.directory.entries:\n",
    "                        if hasattr(sub_entry, 'data') and hasattr(sub_entry.data, 'struct'):\n",
    "                            total_size += sub_entry.data.struct.Size\n",
    "\n",
    "            return total_size\n",
    "\n",
    "        return 0\n",
    "    except Exception as e:\n",
    "        # Gère les exceptions de manière sécurisée et affiche une erreur\n",
    "        print(f\"Erreur lors de l'extraction de la taille des ressources : {e}\")\n",
    "        return 0\n",
    "\n"
   ],
   "id": "660836cc72148dac",
   "outputs": [],
   "execution_count": 3
  },
  {
   "metadata": {
    "ExecuteTime": {
     "end_time": "2024-12-22T12:31:14.278287Z",
     "start_time": "2024-12-22T12:31:14.048124Z"
    }
   },
   "cell_type": "code",
   "source": [
    "features =extract_features(\"./datatest/SteamSetup.exe\")\n",
    "features_df = pd.DataFrame([features])\n",
    "# Charger le modèle\n",
    "model = joblib.load(\"optimized_model.pkl\")\n",
    "prediction = model.predict(features_df)[0]\n",
    "if prediction == 1:\n",
    "    print(\"Le fichier est un Malware.\")\n",
    "else:\n",
    "    print(\"Le fichier n'est pas un Malware.\")\n"
   ],
   "id": "e9cbfe96b88dc955",
   "outputs": [
    {
     "name": "stdout",
     "output_type": "stream",
     "text": [
      "Le fichier n'est pas un Malware.\n"
     ]
    }
   ],
   "execution_count": 4
  },
  {
   "metadata": {},
   "cell_type": "markdown",
   "source": "",
   "id": "3ae82fc4e643b5c1"
  },
  {
   "metadata": {
    "ExecuteTime": {
     "end_time": "2024-12-22T12:31:14.283320Z",
     "start_time": "2024-12-22T12:31:14.279803Z"
    }
   },
   "cell_type": "code",
   "source": "",
   "id": "b55347d553429446",
   "outputs": [],
   "execution_count": 4
  }
 ],
 "metadata": {
  "kernelspec": {
   "display_name": "Python 3",
   "language": "python",
   "name": "python3"
  },
  "language_info": {
   "codemirror_mode": {
    "name": "ipython",
    "version": 2
   },
   "file_extension": ".py",
   "mimetype": "text/x-python",
   "name": "python",
   "nbconvert_exporter": "python",
   "pygments_lexer": "ipython2",
   "version": "2.7.6"
  }
 },
 "nbformat": 4,
 "nbformat_minor": 5
}
